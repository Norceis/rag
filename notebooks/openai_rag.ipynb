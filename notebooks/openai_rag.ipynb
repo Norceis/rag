{
 "cells": [
  {
   "cell_type": "code",
   "execution_count": 1,
   "id": "initial_id",
   "metadata": {
    "collapsed": true,
    "ExecuteTime": {
     "end_time": "2023-11-13T20:30:04.627893500Z",
     "start_time": "2023-11-13T20:30:02.347842Z"
    }
   },
   "outputs": [
    {
     "data": {
      "text/plain": "True"
     },
     "execution_count": 1,
     "metadata": {},
     "output_type": "execute_result"
    }
   ],
   "source": [
    "import os\n",
    "from dotenv import load_dotenv\n",
    "from langchain.llms import OpenAI\n",
    "from langchain.prompts import PromptTemplate\n",
    "from langchain.chains import LLMChain\n",
    "\n",
    "load_dotenv()"
   ]
  },
  {
   "cell_type": "code",
   "execution_count": 2,
   "outputs": [],
   "source": [
    "# template = \"\"\"Question: {question}\n",
    "# \n",
    "# Answer: Let's think step by step.\"\"\"\n",
    "# \n",
    "# prompt = PromptTemplate(template=template, input_variables=[\"question\"])"
   ],
   "metadata": {
    "collapsed": false,
    "ExecuteTime": {
     "end_time": "2023-11-05T18:47:14.378075900Z",
     "start_time": "2023-11-05T18:47:14.353081200Z"
    }
   },
   "id": "a2e7ee319a7cd47"
  },
  {
   "cell_type": "code",
   "execution_count": 3,
   "outputs": [],
   "source": [
    "llm = OpenAI(openai_api_key=os.getenv('OPENAI_API_KEY'))\n",
    "# llm_chain = LLMChain(prompt=prompt, llm=llm)"
   ],
   "metadata": {
    "collapsed": false,
    "ExecuteTime": {
     "end_time": "2023-11-07T10:08:57.866880300Z",
     "start_time": "2023-11-07T10:08:57.812882500Z"
    }
   },
   "id": "6cd8aaae1fbdc000"
  },
  {
   "cell_type": "code",
   "execution_count": 4,
   "outputs": [],
   "source": [
    "# question = \"What NFL team won the Super Bowl in the year Justin Beiber was born?\"\n",
    "# \n",
    "# llm_chain.run(question)"
   ],
   "metadata": {
    "collapsed": false,
    "ExecuteTime": {
     "end_time": "2023-11-05T18:47:14.529078300Z",
     "start_time": "2023-11-05T18:47:14.507078400Z"
    }
   },
   "id": "8ffa1c9e84e840d2"
  },
  {
   "cell_type": "code",
   "execution_count": 4,
   "outputs": [],
   "source": [],
   "metadata": {
    "collapsed": false,
    "ExecuteTime": {
     "end_time": "2023-11-05T18:47:14.545074Z",
     "start_time": "2023-11-05T18:47:14.523077400Z"
    }
   },
   "id": "278dd755d294adee"
  },
  {
   "cell_type": "code",
   "execution_count": 4,
   "outputs": [],
   "source": [
    "from langchain.prompts import SystemMessagePromptTemplate, HumanMessagePromptTemplate, ChatPromptTemplate\n",
    "\n",
    "system_template = \"\"\"Create an informative and comprehensive answer for a given question based solely on the given documents. You must only use information from the given documents.\n",
    "Use an unbiased and journalistic tone. Do not repeat text.\n",
    "Cite the documents using [Document name] notation.\n",
    "If multiple documents contain the answer, cite those documents like ‘as stated in [Document name 1], [Document name 2], etc.’.\n",
    "You must include citations in your answer.\n",
    "If the documents do not contain the answer to the question, say that  ‘answering is not possible given the available information.’\n",
    "{context}\n",
    "\n",
    "\"\"\"\n",
    "messages = [\n",
    "        SystemMessagePromptTemplate.from_template(system_template),\n",
    "        HumanMessagePromptTemplate.from_template(\"{question}\"),\n",
    "    ]\n",
    "prompt = ChatPromptTemplate.from_messages(messages)"
   ],
   "metadata": {
    "collapsed": false,
    "ExecuteTime": {
     "end_time": "2023-11-07T10:09:07.746374Z",
     "start_time": "2023-11-07T10:09:07.732380600Z"
    }
   },
   "id": "8bc903b15e0a35ae"
  },
  {
   "cell_type": "code",
   "execution_count": 5,
   "outputs": [],
   "source": [
    "from langchain.embeddings import OpenAIEmbeddings\n",
    "\n",
    "faiss_local_path = '../data/embedded_dataset/faiss/openai_1000/faiss_idx'\n",
    "embeddings = OpenAIEmbeddings(openai_api_key=os.getenv('OPENAI_API_KEY'))"
   ],
   "metadata": {
    "collapsed": false,
    "ExecuteTime": {
     "end_time": "2023-11-07T10:09:24.202861300Z",
     "start_time": "2023-11-07T10:09:24.182864700Z"
    }
   },
   "id": "52e54d659789a13e"
  },
  {
   "cell_type": "code",
   "execution_count": 6,
   "outputs": [],
   "source": [],
   "metadata": {
    "collapsed": false,
    "ExecuteTime": {
     "end_time": "2023-11-05T18:47:44.656032800Z",
     "start_time": "2023-11-05T18:47:44.640036200Z"
    }
   },
   "id": "34fbb37d90122f0a"
  },
  {
   "cell_type": "code",
   "execution_count": 6,
   "outputs": [],
   "source": [
    "from langchain import FAISS\n",
    "\n",
    "db = FAISS.load_local(faiss_local_path, embeddings)"
   ],
   "metadata": {
    "collapsed": false,
    "ExecuteTime": {
     "end_time": "2023-11-07T10:09:41.601558200Z",
     "start_time": "2023-11-07T10:09:29.102908700Z"
    }
   },
   "id": "142bd2e09c291603"
  },
  {
   "cell_type": "code",
   "execution_count": 7,
   "outputs": [],
   "source": [
    "from langchain.memory import ConversationBufferMemory\n",
    "from langchain.chains import ConversationalRetrievalChain\n",
    "\n",
    "conversation_chain = ConversationalRetrievalChain.from_llm(\n",
    "        llm,\n",
    "        db.as_retriever(search_kwargs={\"k\": 3}),\n",
    "        memory=ConversationBufferMemory(\n",
    "        memory_key=\"chat_history\", return_messages=True, output_key=\"answer\"\n",
    "    ),\n",
    "        return_source_documents=True,\n",
    "        combine_docs_chain_kwargs={\n",
    "            \"document_prompt\": PromptTemplate(\n",
    "                input_variables=[\"page_content\", \"Source\"],\n",
    "                template=\"Document name: {Source}\\nContext:\\n{page_content}\",\n",
    "            ),\n",
    "            \"prompt\": prompt,\n",
    "        },\n",
    "    )"
   ],
   "metadata": {
    "collapsed": false,
    "ExecuteTime": {
     "end_time": "2023-11-07T10:09:44.806049800Z",
     "start_time": "2023-11-07T10:09:44.786051700Z"
    }
   },
   "id": "e1f156aa51b174fe"
  },
  {
   "cell_type": "code",
   "execution_count": 8,
   "outputs": [],
   "source": [
    "response = conversation_chain('What are the problems with the military standard IP specification?')"
   ],
   "metadata": {
    "collapsed": false,
    "ExecuteTime": {
     "end_time": "2023-11-07T10:10:00.130842900Z",
     "start_time": "2023-11-07T10:09:55.219065300Z"
    }
   },
   "id": "7060eb1aa19ab0da"
  },
  {
   "cell_type": "code",
   "execution_count": 9,
   "outputs": [
    {
     "name": "stdout",
     "output_type": "stream",
     "text": [
      "\n",
      "\n",
      "Answer: According to [RFC 963], some problems with the Military Standard Internet Protocol (MIL-STD-1777) specification include failure to insert the last fragment of an incoming datagram, which would cause datagrams to be delivered to the upper-level protocol with some data missing, and passing an incorrect value of the data length for reassembled datagrams to the ULP, with unpredictable consequences. Additionally, as the specification is written, these errors are of little consequence, since the test for reassembly completion will always fail, with the result that reassembled datagrams would never be delivered at all [RFC 963].\n"
     ]
    }
   ],
   "source": [
    "print(response['answer'])"
   ],
   "metadata": {
    "collapsed": false,
    "ExecuteTime": {
     "end_time": "2023-11-07T10:10:00.154841400Z",
     "start_time": "2023-11-07T10:10:00.133842900Z"
    }
   },
   "id": "f07a0138f13cc0b8"
  },
  {
   "cell_type": "code",
   "execution_count": null,
   "outputs": [],
   "source": [],
   "metadata": {
    "collapsed": false
   },
   "id": "211e1f1177674b14"
  }
 ],
 "metadata": {
  "kernelspec": {
   "display_name": "Python 3",
   "language": "python",
   "name": "python3"
  },
  "language_info": {
   "codemirror_mode": {
    "name": "ipython",
    "version": 2
   },
   "file_extension": ".py",
   "mimetype": "text/x-python",
   "name": "python",
   "nbconvert_exporter": "python",
   "pygments_lexer": "ipython2",
   "version": "2.7.6"
  }
 },
 "nbformat": 4,
 "nbformat_minor": 5
}
