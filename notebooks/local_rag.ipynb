{
 "cells": [
  {
   "cell_type": "code",
   "execution_count": 1,
   "id": "initial_id",
   "metadata": {
    "collapsed": true,
    "ExecuteTime": {
     "end_time": "2023-11-13T19:51:15.119247800Z",
     "start_time": "2023-11-13T19:51:11.725248800Z"
    }
   },
   "outputs": [],
   "source": [
    "from langchain.prompts import PromptTemplate\n",
    "from langchain.chains import LLMChain\n",
    "from langchain.llms import GPT4All\n",
    "from langchain.callbacks.streaming_stdout import StreamingStdOutCallbackHandler\n",
    "import os\n",
    "from dotenv import load_dotenv\n",
    "from langchain.llms import OpenAI\n",
    "from langchain.prompts import PromptTemplate\n",
    "from langchain.chains import LLMChain\n",
    "\n",
    "load_dotenv()\n",
    "llm_local_path = \"../models/model_007-70b.Q3_K_M.gguf\"  "
   ]
  },
  {
   "cell_type": "code",
   "execution_count": 2,
   "outputs": [],
   "source": [
    "template = \"\"\"Question: {question}\n",
    "\n",
    "Answer: Let's think step by step.\"\"\"\n",
    "\n",
    "prompt = PromptTemplate(template=template, input_variables=[\"question\"])"
   ],
   "metadata": {
    "collapsed": false,
    "ExecuteTime": {
     "end_time": "2023-11-13T16:54:16.759808600Z",
     "start_time": "2023-11-13T16:54:16.746809400Z"
    }
   },
   "id": "1cc69a7c604e0c8c"
  },
  {
   "cell_type": "code",
   "execution_count": 3,
   "outputs": [],
   "source": [
    "# # Callbacks support token-wise streaming\n",
    "# callbacks = [StreamingStdOutCallbackHandler()]\n",
    "# \n",
    "# # Verbose is required to pass to the callback manager\n",
    "# llm_gpt4all = GPT4All(model=local_path, callbacks=callbacks, verbose=True)"
   ],
   "metadata": {
    "collapsed": false,
    "ExecuteTime": {
     "end_time": "2023-11-13T15:20:02.159499700Z",
     "start_time": "2023-11-13T15:20:02.135502100Z"
    }
   },
   "id": "d3589131b7daec0d"
  },
  {
   "cell_type": "code",
   "execution_count": 4,
   "outputs": [],
   "source": [
    "# llm_chain_gpt4all = LLMChain(prompt=prompt, llm=llm_gpt4all)"
   ],
   "metadata": {
    "collapsed": false,
    "ExecuteTime": {
     "end_time": "2023-11-13T15:20:02.335500Z",
     "start_time": "2023-11-13T15:20:02.323508700Z"
    }
   },
   "id": "b84ddd20350f4701"
  },
  {
   "cell_type": "code",
   "execution_count": 5,
   "outputs": [],
   "source": [
    "# question = \"What NFL team won the Super Bowl in the year Justin Bieber was born?\"\n",
    "# \n",
    "# llm_chain_gpt4all.run(question)"
   ],
   "metadata": {
    "collapsed": false,
    "ExecuteTime": {
     "end_time": "2023-11-13T15:20:02.547501800Z",
     "start_time": "2023-11-13T15:20:02.530502400Z"
    }
   },
   "id": "7bfcc2f86d882aa"
  },
  {
   "cell_type": "code",
   "execution_count": 2,
   "outputs": [
    {
     "name": "stderr",
     "output_type": "stream",
     "text": [
      "AVX = 1 | AVX2 = 1 | AVX512 = 0 | AVX512_VBMI = 0 | AVX512_VNNI = 0 | FMA = 1 | NEON = 0 | ARM_FMA = 0 | F16C = 1 | FP16_VA = 0 | WASM_SIMD = 0 | BLAS = 1 | SSE3 = 1 | SSSE3 = 0 | VSX = 0 | \n"
     ]
    }
   ],
   "source": [
    "from langchain.callbacks.manager import CallbackManager\n",
    "from langchain.llms import LlamaCpp\n",
    "\n",
    "llm_cpp = LlamaCpp(\n",
    "    model_path=llm_local_path,\n",
    "    n_gpu_layers=20,\n",
    "    n_batch=256,\n",
    "    n_ctx=2048,\n",
    "    f16_kv=True,\n",
    "    callback_manager=CallbackManager([StreamingStdOutCallbackHandler()]),\n",
    "    verbose=True,\n",
    "    streaming=False\n",
    ")"
   ],
   "metadata": {
    "collapsed": false,
    "ExecuteTime": {
     "end_time": "2023-11-13T19:51:23.834053400Z",
     "start_time": "2023-11-13T19:51:18.456059Z"
    }
   },
   "id": "415214324997bb48"
  },
  {
   "cell_type": "code",
   "execution_count": 4,
   "outputs": [],
   "source": [
    "llm_chain_cpp = LLMChain(prompt=prompt, llm=llm_cpp)"
   ],
   "metadata": {
    "collapsed": false,
    "ExecuteTime": {
     "end_time": "2023-11-13T16:54:24.298279900Z",
     "start_time": "2023-11-13T16:54:24.244281800Z"
    }
   },
   "id": "2830ba735b3ae589"
  },
  {
   "cell_type": "code",
   "execution_count": 5,
   "outputs": [
    {
     "data": {
      "text/plain": "'\\n\\nTo determine whether living or not living is \"better,\" we need to first define what we mean by \"better.\" Do we mean it in terms of happiness, success, personal growth, relationship with others and oneself, or something else entirely? Different people have different values and priorities, so the answer will depend on an individual\\'s unique perspective.\\n\\nFor example, if you value happiness highly, then living could be considered \"better\" because it allows for experiences, connections, and personal growth that can contribute to one\\'s happiness. On the other hand, if you value freedom or escape from suffering highly, not living might be considered \"better\" since it eliminates the potential for pain and hardship.\\n\\nUltimately, whether living or not living is \"better\" depends on what each individual considers most important in their life.'"
     },
     "execution_count": 5,
     "metadata": {},
     "output_type": "execute_result"
    }
   ],
   "source": [
    "llm_chain_cpp.run(\"Tell me which is better - to live or not to live?\")"
   ],
   "metadata": {
    "collapsed": false,
    "ExecuteTime": {
     "end_time": "2023-11-13T16:56:10.011630300Z",
     "start_time": "2023-11-13T16:54:24.259285100Z"
    }
   },
   "id": "9de2ac94b6dc2af"
  },
  {
   "cell_type": "code",
   "execution_count": 9,
   "outputs": [],
   "source": [],
   "metadata": {
    "collapsed": false,
    "ExecuteTime": {
     "end_time": "2023-11-04T18:29:25.330460300Z",
     "start_time": "2023-11-04T18:29:25.315196100Z"
    }
   },
   "id": "bb8d8c8fb9771732"
  },
  {
   "cell_type": "code",
   "execution_count": 3,
   "outputs": [],
   "source": [
    "from langchain.prompts import SystemMessagePromptTemplate, HumanMessagePromptTemplate, ChatPromptTemplate\n",
    "\n",
    "system_template = \"\"\"Create an informative and comprehensive answer for a given question based solely on the given documents. You must only use information from the given documents.\n",
    "Use an unbiased and journalistic tone. Do not repeat text.\n",
    "Cite the documents using [Document name] notation.\n",
    "If multiple documents contain the answer, cite those documents like ‘as stated in [Document name 1], [Document name 2], etc.’.\n",
    "You must include citations in your answer.\n",
    "If the documents do not contain the answer to the question, say that ‘Answering is not possible given the available information.’\n",
    "{context}\n",
    "\"\"\"\n",
    "messages = [\n",
    "        SystemMessagePromptTemplate.from_template(system_template),\n",
    "        HumanMessagePromptTemplate.from_template(\"{question}\"),\n",
    "    ]\n",
    "prompt = ChatPromptTemplate.from_messages(messages)"
   ],
   "metadata": {
    "collapsed": false,
    "ExecuteTime": {
     "end_time": "2023-11-13T19:51:29.059216200Z",
     "start_time": "2023-11-13T19:51:29.033220800Z"
    }
   },
   "id": "6ccc4b20b28b7afd"
  },
  {
   "cell_type": "code",
   "execution_count": 4,
   "outputs": [
    {
     "name": "stdout",
     "output_type": "stream",
     "text": [
      "bin C:\\Users\\cubix\\PycharmProjects\\rag\\venv39\\lib\\site-packages\\bitsandbytes\\libbitsandbytes_cuda118.dll\n"
     ]
    }
   ],
   "source": [
    "from embeddings import get_local_embeddings\n",
    "import os\n",
    "from langchain.embeddings import OpenAIEmbeddings\n",
    "from langchain import FAISS\n",
    "\n",
    "\n",
    "faiss_local_path = '../data/embedded_dataset/faiss/local_500/faiss_idx'\n",
    "# embeddings = OpenAIEmbeddings(openai_api_key=os.getenv('OPENAI_API_KEY'))\n",
    "embeddings = get_local_embeddings(\"sentence-transformers/msmarco-distilbert-dot-v5\")\n",
    "db = FAISS.load_local(faiss_local_path, embeddings)"
   ],
   "metadata": {
    "collapsed": false,
    "ExecuteTime": {
     "end_time": "2023-11-13T19:52:02.267761900Z",
     "start_time": "2023-11-13T19:51:30.496591500Z"
    }
   },
   "id": "d53eb7ed5b365b34"
  },
  {
   "cell_type": "code",
   "execution_count": 5,
   "outputs": [],
   "source": [
    "from langchain.memory import ConversationBufferMemory\n",
    "from langchain.chains import ConversationalRetrievalChain\n",
    "\n",
    "conversation_chain = ConversationalRetrievalChain.from_llm(\n",
    "        llm_cpp,\n",
    "        db.as_retriever(search_kwargs={\"k\": 3}),\n",
    "        memory=ConversationBufferMemory(\n",
    "        memory_key=\"chat_history\", return_messages=True, output_key=\"answer\"\n",
    "    ),\n",
    "        return_source_documents=True,\n",
    "        combine_docs_chain_kwargs={\n",
    "            \"document_prompt\": PromptTemplate(\n",
    "                input_variables=[\"page_content\", \"Source\"],\n",
    "                template=\"Document name: {Source}\\nContext:\\n{page_content}\",\n",
    "            ),\n",
    "            \"prompt\": prompt,\n",
    "        },\n",
    "    )"
   ],
   "metadata": {
    "collapsed": false,
    "ExecuteTime": {
     "end_time": "2023-11-13T19:52:02.283761500Z",
     "start_time": "2023-11-13T19:52:02.271764100Z"
    }
   },
   "id": "28eb678ccd585e97"
  },
  {
   "cell_type": "code",
   "execution_count": 6,
   "outputs": [
    {
     "data": {
      "text/plain": "[Document(page_content='3.  Problems with MIL Standard IP', metadata={'Source': 'rfc963', 'Title': 'Some problems with the specification of the Military Standard Internet Protocol ', 'Updates': None, 'Obsoletes': None, 'Category': None, 'ISSN': None, 'Updated by': None, 'NIC': None, 'Obsoleted by': None, 'Related RFCs': None}),\n Document(page_content='RFC 964:  Some problems with the specification of the Military Standard Transmission Control Protocol', metadata={'Source': 'rfc964', 'Title': 'Some problems with the specification of the Military Standard Transmission Control Protocol ', 'Updates': None, 'Obsoletes': None, 'Category': None, 'ISSN': None, 'Updated by': None, 'NIC': None, 'Obsoleted by': None, 'Related RFCs': None}),\n Document(page_content='In our discussion above, we have pointed out several serious problems\\n   with the Military Standard IP [MILS83a] specification which must be\\n   corrected to produce a running implementation conforming to this\\n   standard.  We have produced a running C implementation for the MIL\\n   Standard IP, after problems discussed above were fixed in the IP\\n   specification.  An important feature of this implementation is that\\n   it was generated semi-automatically from the IP specification with', metadata={'Source': 'rfc963', 'Title': 'Some problems with the specification of the Military Standard Internet Protocol ', 'Updates': None, 'Obsoletes': None, 'Category': None, 'ISSN': None, 'Updated by': None, 'NIC': None, 'Obsoleted by': None, 'Related RFCs': None}),\n Document(page_content='that one can obtain a reliable implementation of this protocol\\n      standard.  This note points out three errors with this\\n      specification.  This note also proposes solutions to these\\n      problems.\\n\\n   963     Sidhu        Nov 85      Some Problems with the Specification\\n                                    of the Military Standard Internet\\n                                    Protocol', metadata={'Source': 'rfc1000', 'Title': 'Request For Comments reference guide ', 'Updates': None, 'Obsoletes': ['084', '100', '160', '170', '200', '598', '699', '800', '899', '999'], 'Category': None, 'ISSN': None, 'Updated by': ['937'], 'NIC': [], 'Obsoleted by': ['10'], 'Related RFCs': None})]"
     },
     "execution_count": 6,
     "metadata": {},
     "output_type": "execute_result"
    }
   ],
   "source": [
    "db.similarity_search('What are the problems with the military standard IP specification?')"
   ],
   "metadata": {
    "collapsed": false,
    "ExecuteTime": {
     "end_time": "2023-11-13T19:52:03.056784100Z",
     "start_time": "2023-11-13T19:52:02.285765800Z"
    }
   },
   "id": "b6f9fc6eed35217f"
  },
  {
   "cell_type": "code",
   "execution_count": null,
   "outputs": [],
   "source": [
    "response = conversation_chain('What are the problems with the military standard IP specification?')"
   ],
   "metadata": {
    "collapsed": false,
    "is_executing": true,
    "ExecuteTime": {
     "start_time": "2023-11-13T19:52:03.059788800Z"
    }
   },
   "id": "970184b83f591e2a"
  },
  {
   "cell_type": "code",
   "execution_count": null,
   "outputs": [],
   "source": [
    "response['answer']"
   ],
   "metadata": {
    "collapsed": false,
    "is_executing": true
   },
   "id": "808d9dc7c5e96849"
  },
  {
   "cell_type": "code",
   "execution_count": null,
   "outputs": [],
   "source": [
    "response['source_documents']"
   ],
   "metadata": {
    "collapsed": false,
    "is_executing": true
   },
   "id": "c190e6108d38eb1c"
  },
  {
   "cell_type": "code",
   "execution_count": null,
   "outputs": [],
   "source": [
    "response"
   ],
   "metadata": {
    "collapsed": false,
    "is_executing": true
   },
   "id": "4b007316cd9462c0"
  },
  {
   "cell_type": "code",
   "execution_count": null,
   "outputs": [],
   "source": [],
   "metadata": {
    "collapsed": false
   },
   "id": "67005c3daa92e346"
  }
 ],
 "metadata": {
  "kernelspec": {
   "display_name": "Python 3",
   "language": "python",
   "name": "python3"
  },
  "language_info": {
   "codemirror_mode": {
    "name": "ipython",
    "version": 2
   },
   "file_extension": ".py",
   "mimetype": "text/x-python",
   "name": "python",
   "nbconvert_exporter": "python",
   "pygments_lexer": "ipython2",
   "version": "2.7.6"
  }
 },
 "nbformat": 4,
 "nbformat_minor": 5
}
