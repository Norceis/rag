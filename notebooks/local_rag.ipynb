{
 "cells": [
  {
   "cell_type": "code",
   "execution_count": 1,
   "id": "initial_id",
   "metadata": {
    "collapsed": true,
    "ExecuteTime": {
     "end_time": "2023-11-05T18:57:00.971080Z",
     "start_time": "2023-11-05T18:56:58.751217200Z"
    }
   },
   "outputs": [],
   "source": [
    "from langchain.prompts import PromptTemplate\n",
    "from langchain.chains import LLMChain\n",
    "from langchain.llms import GPT4All\n",
    "from langchain.callbacks.streaming_stdout import StreamingStdOutCallbackHandler\n",
    "import os\n",
    "from dotenv import load_dotenv\n",
    "from langchain.llms import OpenAI\n",
    "from langchain.prompts import PromptTemplate\n",
    "from langchain.chains import LLMChain\n",
    "\n",
    "load_dotenv()\n",
    "llm_local_path = \"../models/mistral-7b-openorca.Q4_0.gguf\"  "
   ]
  },
  {
   "cell_type": "code",
   "execution_count": 14,
   "outputs": [],
   "source": [
    "template = \"\"\"Question: {question}\n",
    "\n",
    "Answer: Let's think step by step.\"\"\"\n",
    "\n",
    "prompt = PromptTemplate(template=template, input_variables=[\"question\"])"
   ],
   "metadata": {
    "collapsed": false,
    "ExecuteTime": {
     "end_time": "2023-11-04T18:37:47.865259700Z",
     "start_time": "2023-11-04T18:37:47.856260600Z"
    }
   },
   "id": "1cc69a7c604e0c8c"
  },
  {
   "cell_type": "code",
   "execution_count": 15,
   "outputs": [],
   "source": [
    "# # Callbacks support token-wise streaming\n",
    "# callbacks = [StreamingStdOutCallbackHandler()]\n",
    "# \n",
    "# # Verbose is required to pass to the callback manager\n",
    "# llm_gpt4all = GPT4All(model=local_path, callbacks=callbacks, verbose=True)"
   ],
   "metadata": {
    "collapsed": false,
    "ExecuteTime": {
     "end_time": "2023-11-04T18:37:48.256970400Z",
     "start_time": "2023-11-04T18:37:48.239975500Z"
    }
   },
   "id": "d3589131b7daec0d"
  },
  {
   "cell_type": "code",
   "execution_count": 16,
   "outputs": [],
   "source": [
    "# llm_chain_gpt4all = LLMChain(prompt=prompt, llm=llm_gpt4all)"
   ],
   "metadata": {
    "collapsed": false,
    "ExecuteTime": {
     "end_time": "2023-11-04T18:37:48.509894600Z",
     "start_time": "2023-11-04T18:37:48.499897300Z"
    }
   },
   "id": "b84ddd20350f4701"
  },
  {
   "cell_type": "code",
   "execution_count": 17,
   "outputs": [],
   "source": [
    "# question = \"What NFL team won the Super Bowl in the year Justin Bieber was born?\"\n",
    "# \n",
    "# llm_chain_gpt4all.run(question)"
   ],
   "metadata": {
    "collapsed": false,
    "ExecuteTime": {
     "end_time": "2023-11-04T18:37:48.721895100Z",
     "start_time": "2023-11-04T18:37:48.703897400Z"
    }
   },
   "id": "7bfcc2f86d882aa"
  },
  {
   "cell_type": "code",
   "execution_count": 9,
   "outputs": [
    {
     "name": "stderr",
     "output_type": "stream",
     "text": [
      "AVX = 1 | AVX2 = 1 | AVX512 = 0 | AVX512_VBMI = 0 | AVX512_VNNI = 0 | FMA = 1 | NEON = 0 | ARM_FMA = 0 | F16C = 1 | FP16_VA = 0 | WASM_SIMD = 0 | BLAS = 0 | SSE3 = 1 | SSSE3 = 0 | VSX = 0 | \n"
     ]
    }
   ],
   "source": [
    "from langchain.callbacks.manager import CallbackManager\n",
    "from langchain.llms import LlamaCpp\n",
    "\n",
    "llm_cpp = LlamaCpp(\n",
    "    model_path=llm_local_path,\n",
    "    n_gpu_layers=2,\n",
    "    n_batch=512,\n",
    "    n_ctx=8192,\n",
    "    f16_kv=True,\n",
    "    callback_manager=CallbackManager([StreamingStdOutCallbackHandler()]),\n",
    "    verbose=True,\n",
    "    streaming=False\n",
    ")"
   ],
   "metadata": {
    "collapsed": false,
    "ExecuteTime": {
     "end_time": "2023-11-05T19:04:13.958577300Z",
     "start_time": "2023-11-05T19:04:13.910549800Z"
    }
   },
   "id": "415214324997bb48"
  },
  {
   "cell_type": "code",
   "execution_count": 19,
   "outputs": [],
   "source": [
    "llm_chain_cpp = LLMChain(prompt=prompt, llm=llm_cpp)"
   ],
   "metadata": {
    "collapsed": false,
    "ExecuteTime": {
     "end_time": "2023-11-04T18:37:51.203228Z",
     "start_time": "2023-11-04T18:37:50.583228400Z"
    }
   },
   "id": "2830ba735b3ae589"
  },
  {
   "cell_type": "code",
   "execution_count": 20,
   "outputs": [
    {
     "data": {
      "text/plain": "\" If you are asking about the quality of life, it depends on individual circumstances. If one does not have happiness and peace, then living becomes a burden rather than a joy. Therefore, living with constant unhappiness is not better. On the other hand, if someone has peace and happiness in their life, then living is better.\\n\\nNow, if you are asking about the general concept of life vs. no-life (such as living versus being dead), this question doesn't have a simple answer either.\\n\\nThe concept of life depends on an individual's perspective. Some people believe that to live and enjoy the experiences of life is better than nothing. Even if there are ups and downs, they still think that living gives more value in comparison to no-life (death). Others may choose not to live because they do not wish to experience suffering and pain. Therefore, it depends on one's perspective and personal choice.\\n\\nIn conclusion, both sides have their pros and cons based on individual circumstances, so it's hard to say which is better without understanding the context.\""
     },
     "execution_count": 20,
     "metadata": {},
     "output_type": "execute_result"
    }
   ],
   "source": [
    "llm_chain_cpp.run(\"Tell me which is better - to live or not to live?\")"
   ],
   "metadata": {
    "collapsed": false,
    "ExecuteTime": {
     "end_time": "2023-11-04T18:38:53.683835300Z",
     "start_time": "2023-11-04T18:37:51.206227400Z"
    }
   },
   "id": "9de2ac94b6dc2af"
  },
  {
   "cell_type": "code",
   "execution_count": 9,
   "outputs": [],
   "source": [],
   "metadata": {
    "collapsed": false,
    "ExecuteTime": {
     "end_time": "2023-11-04T18:29:25.330460300Z",
     "start_time": "2023-11-04T18:29:25.315196100Z"
    }
   },
   "id": "bb8d8c8fb9771732"
  },
  {
   "cell_type": "code",
   "execution_count": 16,
   "outputs": [],
   "source": [
    "from langchain.prompts import SystemMessagePromptTemplate, HumanMessagePromptTemplate, ChatPromptTemplate\n",
    "\n",
    "system_template = \"\"\"Create an informative and comprehensive answer for a given question based solely on the given documents. You must only use information from the given documents.\n",
    "Use an unbiased and journalistic tone. Do not repeat text.\n",
    "Cite the documents using [Document name] notation.\n",
    "If multiple documents contain the answer, cite those documents like ‘as stated in [Document name 1], [Document name 2], etc.’.\n",
    "You must include citations in your answer.\n",
    "If the documents do not contain the answer to the question, say that ‘Answering is not possible given the available information.’\n",
    "{context}\n",
    "\"\"\"\n",
    "messages = [\n",
    "        SystemMessagePromptTemplate.from_template(system_template),\n",
    "        HumanMessagePromptTemplate.from_template(\"{question}\"),\n",
    "    ]\n",
    "prompt = ChatPromptTemplate.from_messages(messages)"
   ],
   "metadata": {
    "collapsed": false,
    "ExecuteTime": {
     "end_time": "2023-11-05T19:08:00.146533700Z",
     "start_time": "2023-11-05T19:08:00.122544200Z"
    }
   },
   "id": "6ccc4b20b28b7afd"
  },
  {
   "cell_type": "code",
   "execution_count": 11,
   "outputs": [],
   "source": [
    "import os\n",
    "from langchain.embeddings import OpenAIEmbeddings\n",
    "\n",
    "faiss_local_path = '../data/embedded_dataset/faiss/openai_1000/faiss_idx'\n",
    "embeddings = OpenAIEmbeddings(openai_api_key=os.getenv('OPENAI_API_KEY'))"
   ],
   "metadata": {
    "collapsed": false,
    "ExecuteTime": {
     "end_time": "2023-11-05T19:04:17.572900800Z",
     "start_time": "2023-11-05T19:04:17.562902200Z"
    }
   },
   "id": "d53eb7ed5b365b34"
  },
  {
   "cell_type": "code",
   "execution_count": 12,
   "outputs": [],
   "source": [
    "from langchain import FAISS\n",
    "\n",
    "db = FAISS.load_local(faiss_local_path, embeddings)"
   ],
   "metadata": {
    "collapsed": false,
    "ExecuteTime": {
     "end_time": "2023-11-05T19:04:31.095722500Z",
     "start_time": "2023-11-05T19:04:18.067907500Z"
    }
   },
   "id": "1b1a65c00fdafe9"
  },
  {
   "cell_type": "code",
   "execution_count": 13,
   "outputs": [],
   "source": [
    "from langchain.memory import ConversationBufferMemory\n",
    "from langchain.chains import ConversationalRetrievalChain\n",
    "\n",
    "conversation_chain = ConversationalRetrievalChain.from_llm(\n",
    "        llm_cpp,\n",
    "        db.as_retriever(search_kwargs={\"k\": 3}),\n",
    "        memory=ConversationBufferMemory(\n",
    "        memory_key=\"chat_history\", return_messages=True, output_key=\"answer\"\n",
    "    ),\n",
    "        return_source_documents=True,\n",
    "        combine_docs_chain_kwargs={\n",
    "            \"document_prompt\": PromptTemplate(\n",
    "                input_variables=[\"page_content\", \"Source\"],\n",
    "                template=\"Document name: {Source}\\nContext:\\n{page_content}\",\n",
    "            ),\n",
    "            \"prompt\": prompt,\n",
    "        },\n",
    "    )"
   ],
   "metadata": {
    "collapsed": false,
    "ExecuteTime": {
     "end_time": "2023-11-05T19:04:32.244733200Z",
     "start_time": "2023-11-05T19:04:31.097730200Z"
    }
   },
   "id": "28eb678ccd585e97"
  },
  {
   "cell_type": "code",
   "execution_count": 14,
   "outputs": [],
   "source": [
    "response = conversation_chain('What are the problems with the military standard IP specification?')"
   ],
   "metadata": {
    "collapsed": false,
    "ExecuteTime": {
     "end_time": "2023-11-05T19:07:05.925765200Z",
     "start_time": "2023-11-05T19:04:32.988848600Z"
    }
   },
   "id": "970184b83f591e2a"
  },
  {
   "cell_type": "code",
   "execution_count": 18,
   "outputs": [
    {
     "data": {
      "text/plain": "[Document(page_content='RFC 963:  Some problems with the specification of the Military Standard Internet Protocol \\n\\n \\n\\n[RFC Home] [TEXT|PDF|HTML] [Tracker] [IPR] [Info page]                                                                                    UNKNOWN Network Working Group                                 Deepinder P. Sidhu\\nRequest for Comments: 963                          Iowa State University\\n                                                           November 1985\\n\\n              SOME PROBLEMS WITH THE SPECIFICATION OF THE\\n                  MILITARY STANDARD INTERNET PROTOCOL\\n\\n\\nSTATUS OF THIS MEMO\\n\\n   The purpose of this RFC is to provide helpful information on the\\n   Military Standard Internet Protocol (MIL-STD-1777) so that one can\\n   obtain a reliable implementation of this protocol standard.\\n   Distribution of this note is unlimited.\\n\\nABSTRACT', metadata={'Source': 'rfc963', 'Title': 'Some problems with the specification of the Military Standard Internet Protocol ', 'Updates': None, 'Obsoletes': None, 'Category': None, 'ISSN': None, 'Updated by': None, 'NIC': None, 'Obsoleted by': None, 'Related RFCs': None}),\n Document(page_content='3.  Problems with MIL Standard IP\\n\\n   One of the major functions of IP is the fragmentation of datagrams\\n   that cannot be transmitted over a subnetwork in one piece, and their\\n   subsequent reassembly.  The specification has several problems in\\n   this area.  One of the most significant is the failure to insert the\\n   last fragment of an incoming datagram; this would cause datagrams to\\n   be delivered to the upper-level protocol (ULP) with some data\\n   missing. Another error in this area is that an incorrect value of the\\n   data length for reassembled datagrams is passed to the ULP, with\\n   unpredictable consequences.\\n\\n   As the specification [MILS83a] is now written, these errors are of\\n\\n\\n\\n\\n\\nSome Problems with MIL-STD IP\\n\\n\\n   little consequence, since the test for reassembly completion will\\n   always fail, with the result that reassembled datagrams would never\\n   be delivered at all.', metadata={'Source': 'rfc963', 'Title': 'Some problems with the specification of the Military Standard Internet Protocol ', 'Updates': None, 'Obsoletes': None, 'Category': None, 'ISSN': None, 'Updated by': None, 'NIC': None, 'Obsoleted by': None, 'Related RFCs': None}),\n Document(page_content='RFC 6269: Issues with IP Address Sharing', metadata={'Source': 'rfc6269', 'Title': 'Issues with IP Address Sharing', 'Updates': None, 'Obsoletes': None, 'Category': 'Informational', 'ISSN': [], 'Updated by': None, 'NIC': None, 'Obsoleted by': None, 'Related RFCs': None})]"
     },
     "execution_count": 18,
     "metadata": {},
     "output_type": "execute_result"
    }
   ],
   "source": [
    "response['source_documents']"
   ],
   "metadata": {
    "collapsed": false,
    "ExecuteTime": {
     "end_time": "2023-11-05T19:08:28.183532100Z",
     "start_time": "2023-11-05T19:08:28.164246100Z"
    }
   },
   "id": "520481c315ea9999"
  },
  {
   "cell_type": "code",
   "execution_count": null,
   "outputs": [],
   "source": [],
   "metadata": {
    "collapsed": false
   },
   "id": "3c08bc033eef304c"
  }
 ],
 "metadata": {
  "kernelspec": {
   "display_name": "Python 3",
   "language": "python",
   "name": "python3"
  },
  "language_info": {
   "codemirror_mode": {
    "name": "ipython",
    "version": 2
   },
   "file_extension": ".py",
   "mimetype": "text/x-python",
   "name": "python",
   "nbconvert_exporter": "python",
   "pygments_lexer": "ipython2",
   "version": "2.7.6"
  }
 },
 "nbformat": 4,
 "nbformat_minor": 5
}
