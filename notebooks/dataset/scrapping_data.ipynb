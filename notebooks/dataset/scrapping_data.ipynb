{
 "cells": [
  {
   "cell_type": "code",
   "execution_count": null,
   "outputs": [],
   "source": [
    "from pathlib import Path\n",
    "import requests\n",
    "import logging\n",
    "\n",
    "BASE_RFC_URL = \"https://www.rfc-editor.org/rfc/\"\n",
    "RAW_PATH_DATASET = Path(\"data/raw_dataset\")\n",
    "\n",
    "logging.basicConfig(filename='logs/scrapping_logger.log', level=logging.INFO,\n",
    "                    format='%(asctime)s - %(levelname)s - %(message)s')\n",
    "\n",
    "\n",
    "def download_website(url, output_file):\n",
    "    try:\n",
    "        response = requests.get(url)\n",
    "        response.raise_for_status()\n",
    "        with open(output_file, 'w', encoding='utf-8') as file:\n",
    "            file.write(response.text)\n",
    "\n",
    "        logging.info(f\"Website content downloaded successfully and saved to {output_file}\")\n",
    "\n",
    "    except requests.exceptions.HTTPError as errh:\n",
    "        logging.error(f\"HTTP Error: {errh}\")\n",
    "    except requests.exceptions.ConnectionError as errc:\n",
    "        logging.error(f\"Error Connecting: {errc}\")\n",
    "    except requests.exceptions.Timeout as errt:\n",
    "        logging.error(f\"Timeout Error: {errt}\")\n",
    "    except requests.exceptions.RequestException as err:\n",
    "        logging.error(f\"Request Exception: {err}\")\n",
    "\n",
    "\n",
    "def download_rfc(rfc_number: int, logger):\n",
    "    rfc_name = f\"rfc{rfc_number}.html\"\n",
    "    rfc_url = BASE_RFC_URL + rfc_name\n",
    "    output_file = RAW_PATH_DATASET / rfc_name\n",
    "    download_website(rfc_url, output_file, logger)\n"
   ],
   "metadata": {
    "collapsed": false
   },
   "id": "7a224065b4eb003d"
  },
  {
   "cell_type": "code",
   "execution_count": null,
   "outputs": [],
   "source": [
    "import concurrent.futures\n",
    "from tqdm import tqdm\n",
    "\n",
    "with concurrent.futures.ThreadPoolExecutor(max_workers=24) as executor:\n",
    "    for _ in tqdm(executor.map(download_rfc, range(10000)), total=10000):\n",
    "        pass"
   ],
   "metadata": {
    "collapsed": false
   },
   "id": "c21b7476a956435d"
  }
 ],
 "metadata": {
  "kernelspec": {
   "display_name": "Python 3",
   "language": "python",
   "name": "python3"
  },
  "language_info": {
   "codemirror_mode": {
    "name": "ipython",
    "version": 2
   },
   "file_extension": ".py",
   "mimetype": "text/x-python",
   "name": "python",
   "nbconvert_exporter": "python",
   "pygments_lexer": "ipython2",
   "version": "2.7.6"
  }
 },
 "nbformat": 4,
 "nbformat_minor": 5
}
